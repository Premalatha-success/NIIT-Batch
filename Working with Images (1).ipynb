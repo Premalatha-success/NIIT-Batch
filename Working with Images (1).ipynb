{
 "cells": [
  {
   "cell_type": "code",
   "execution_count": null,
   "metadata": {},
   "outputs": [],
   "source": [
    "import skimage.io as io\n",
    "import matplotlib.pyplot as plt\n",
    "import numpy as np\n",
    "\n",
    "# Read the image\n",
    "img = io.imread('lena.jpg')\n",
    "\n",
    "plt.imshow(img)\n",
    "plt.show()"
   ]
  },
  {
   "cell_type": "code",
   "execution_count": null,
   "metadata": {},
   "outputs": [],
   "source": [
    "img.shape"
   ]
  },
  {
   "cell_type": "code",
   "execution_count": null,
   "metadata": {},
   "outputs": [],
   "source": [
    "# Split\n",
    "red = img[:, :, 0]\n",
    "green = img[:, :, 1]\n",
    "blue = img[:, :, 2]"
   ]
  },
  {
   "cell_type": "code",
   "execution_count": null,
   "metadata": {},
   "outputs": [],
   "source": [
    "plt.imshow(red, cmap=\"Reds\")\n",
    "plt.show()"
   ]
  },
  {
   "cell_type": "code",
   "execution_count": null,
   "metadata": {},
   "outputs": [],
   "source": [
    "plt.imshow(green, cmap=\"Greens\")\n",
    "plt.show()"
   ]
  },
  {
   "cell_type": "code",
   "execution_count": null,
   "metadata": {
    "scrolled": true
   },
   "outputs": [],
   "source": [
    "plt.imshow(blue, cmap=\"Blues\")\n",
    "plt.show()"
   ]
  },
  {
   "cell_type": "code",
   "execution_count": null,
   "metadata": {},
   "outputs": [],
   "source": [
    "def filtering(img, f=3):\n",
    "    \n",
    "    # Dimensions from the input shape\n",
    "    (rows, col, channels) = img.shape\n",
    "    \n",
    "    # Initialize \"hyper parameters\"\n",
    "    stride = 2\n",
    "    \n",
    "    # Dimensions of the output\n",
    "    n_rows = int(1 + (rows - f) / stride)\n",
    "    n_col = int(1 + (col - f) / stride)\n",
    "    n_channels = channels\n",
    "    \n",
    "    # Initialize output matrix A\n",
    "    n_img = np.zeros((n_rows, n_col, n_channels))              \n",
    "    \n",
    "    # iterate through img\n",
    "    for h in range(n_rows):                     \n",
    "        for w in range(n_col):                 \n",
    "            for c in range (n_channels):            \n",
    "                vert_start = h*stride\n",
    "                vert_end = vert_start + f\n",
    "                horiz_start = w*stride\n",
    "                horiz_end = horiz_start + f\n",
    "\n",
    "                # extract slice we are dealing with\n",
    "                n_slice = img[vert_start:vert_end, horiz_start:horiz_end, c]\n",
    "\n",
    "                # Compute the filtering operation on the slice\n",
    "                n_img[h, w, c] = np.mean(n_slice, dtype=int)\n",
    "    return n_img"
   ]
  },
  {
   "cell_type": "code",
   "execution_count": null,
   "metadata": {},
   "outputs": [],
   "source": [
    "A = filtering(img)\n",
    "print A.shape\n",
    "plt.imshow(A)\n",
    "plt.show()"
   ]
  },
  {
   "cell_type": "code",
   "execution_count": null,
   "metadata": {
    "scrolled": true
   },
   "outputs": [],
   "source": [
    "A = filtering(img, f=11)\n",
    "print A.shape\n",
    "plt.imshow(A)\n",
    "plt.show()"
   ]
  },
  {
   "cell_type": "code",
   "execution_count": null,
   "metadata": {},
   "outputs": [],
   "source": [
    "A = filtering(img, f=25)\n",
    "print A.shape\n",
    "plt.imshow(A)\n",
    "plt.show()"
   ]
  }
 ],
 "metadata": {
  "kernelspec": {
   "display_name": "Python 3 (ipykernel)",
   "language": "python",
   "name": "python3"
  },
  "language_info": {
   "codemirror_mode": {
    "name": "ipython",
    "version": 3
   },
   "file_extension": ".py",
   "mimetype": "text/x-python",
   "name": "python",
   "nbconvert_exporter": "python",
   "pygments_lexer": "ipython3",
   "version": "3.9.12"
  }
 },
 "nbformat": 4,
 "nbformat_minor": 2
}
