{
 "cells": [
  {
   "cell_type": "code",
   "execution_count": 1,
   "metadata": {
    "colab": {},
    "colab_type": "code",
    "id": "SfpK5CAlNgG6"
   },
   "outputs": [],
   "source": [
    "# To enable plotting graphs in Jupyter notebook\n",
    "%matplotlib inline "
   ]
  },
  {
   "cell_type": "code",
   "execution_count": 2,
   "metadata": {
    "colab": {},
    "colab_type": "code",
    "id": "7lCWwBb-NgG-"
   },
   "outputs": [],
   "source": [
    "import pandas as pd\n",
    "import numpy as np\n",
    "from sklearn import model_selection\n",
    "from sklearn import metrics\n",
    "import seaborn as sns\n",
    "\n",
    "from sklearn.model_selection import cross_val_score\n",
    "from sklearn.linear_model import LogisticRegression\n",
    "from sklearn.naive_bayes import GaussianNB\n",
    "from sklearn.ensemble import RandomForestClassifier\n",
    "from sklearn.ensemble import VotingClassifier\n",
    "from sklearn.ensemble import BaggingClassifier\n",
    "from sklearn.tree import DecisionTreeClassifier"
   ]
  },
  {
   "cell_type": "code",
   "execution_count": 3,
   "metadata": {
    "colab": {},
    "colab_type": "code",
    "id": "xP18oduDNgHB",
    "outputId": "b69d694d-b81f-4ef4-8fea-36a6e7b65835"
   },
   "outputs": [
    {
     "ename": "FileNotFoundError",
     "evalue": "[Errno 2] File D:\\ML-Data\\Bank_Personal_Loan_Modelling.csv does not exist: 'D:\\\\ML-Data\\\\Bank_Personal_Loan_Modelling.csv'",
     "output_type": "error",
     "traceback": [
      "\u001b[1;31m---------------------------------------------------------------------------\u001b[0m",
      "\u001b[1;31mFileNotFoundError\u001b[0m                         Traceback (most recent call last)",
      "\u001b[1;32m<ipython-input-3-7ba880b3e0fe>\u001b[0m in \u001b[0;36m<module>\u001b[1;34m\u001b[0m\n\u001b[1;32m----> 1\u001b[1;33m \u001b[0mdf\u001b[0m \u001b[1;33m=\u001b[0m \u001b[0mpd\u001b[0m\u001b[1;33m.\u001b[0m\u001b[0mread_csv\u001b[0m\u001b[1;33m(\u001b[0m\u001b[1;34m\"D:\\ML-Data\\Bank_Personal_Loan_Modelling.csv\"\u001b[0m\u001b[1;33m)\u001b[0m\u001b[1;33m\u001b[0m\u001b[1;33m\u001b[0m\u001b[0m\n\u001b[0m\u001b[0;32m      2\u001b[0m \u001b[0mdf\u001b[0m\u001b[1;33m.\u001b[0m\u001b[0mhead\u001b[0m\u001b[1;33m(\u001b[0m\u001b[1;36m10\u001b[0m\u001b[1;33m)\u001b[0m\u001b[1;33m\u001b[0m\u001b[1;33m\u001b[0m\u001b[0m\n",
      "\u001b[1;32mC:\\ProgramData\\Anaconda3\\lib\\site-packages\\pandas\\io\\parsers.py\u001b[0m in \u001b[0;36mparser_f\u001b[1;34m(filepath_or_buffer, sep, delimiter, header, names, index_col, usecols, squeeze, prefix, mangle_dupe_cols, dtype, engine, converters, true_values, false_values, skipinitialspace, skiprows, skipfooter, nrows, na_values, keep_default_na, na_filter, verbose, skip_blank_lines, parse_dates, infer_datetime_format, keep_date_col, date_parser, dayfirst, cache_dates, iterator, chunksize, compression, thousands, decimal, lineterminator, quotechar, quoting, doublequote, escapechar, comment, encoding, dialect, error_bad_lines, warn_bad_lines, delim_whitespace, low_memory, memory_map, float_precision)\u001b[0m\n\u001b[0;32m    674\u001b[0m         )\n\u001b[0;32m    675\u001b[0m \u001b[1;33m\u001b[0m\u001b[0m\n\u001b[1;32m--> 676\u001b[1;33m         \u001b[1;32mreturn\u001b[0m \u001b[0m_read\u001b[0m\u001b[1;33m(\u001b[0m\u001b[0mfilepath_or_buffer\u001b[0m\u001b[1;33m,\u001b[0m \u001b[0mkwds\u001b[0m\u001b[1;33m)\u001b[0m\u001b[1;33m\u001b[0m\u001b[1;33m\u001b[0m\u001b[0m\n\u001b[0m\u001b[0;32m    677\u001b[0m \u001b[1;33m\u001b[0m\u001b[0m\n\u001b[0;32m    678\u001b[0m     \u001b[0mparser_f\u001b[0m\u001b[1;33m.\u001b[0m\u001b[0m__name__\u001b[0m \u001b[1;33m=\u001b[0m \u001b[0mname\u001b[0m\u001b[1;33m\u001b[0m\u001b[1;33m\u001b[0m\u001b[0m\n",
      "\u001b[1;32mC:\\ProgramData\\Anaconda3\\lib\\site-packages\\pandas\\io\\parsers.py\u001b[0m in \u001b[0;36m_read\u001b[1;34m(filepath_or_buffer, kwds)\u001b[0m\n\u001b[0;32m    446\u001b[0m \u001b[1;33m\u001b[0m\u001b[0m\n\u001b[0;32m    447\u001b[0m     \u001b[1;31m# Create the parser.\u001b[0m\u001b[1;33m\u001b[0m\u001b[1;33m\u001b[0m\u001b[1;33m\u001b[0m\u001b[0m\n\u001b[1;32m--> 448\u001b[1;33m     \u001b[0mparser\u001b[0m \u001b[1;33m=\u001b[0m \u001b[0mTextFileReader\u001b[0m\u001b[1;33m(\u001b[0m\u001b[0mfp_or_buf\u001b[0m\u001b[1;33m,\u001b[0m \u001b[1;33m**\u001b[0m\u001b[0mkwds\u001b[0m\u001b[1;33m)\u001b[0m\u001b[1;33m\u001b[0m\u001b[1;33m\u001b[0m\u001b[0m\n\u001b[0m\u001b[0;32m    449\u001b[0m \u001b[1;33m\u001b[0m\u001b[0m\n\u001b[0;32m    450\u001b[0m     \u001b[1;32mif\u001b[0m \u001b[0mchunksize\u001b[0m \u001b[1;32mor\u001b[0m \u001b[0miterator\u001b[0m\u001b[1;33m:\u001b[0m\u001b[1;33m\u001b[0m\u001b[1;33m\u001b[0m\u001b[0m\n",
      "\u001b[1;32mC:\\ProgramData\\Anaconda3\\lib\\site-packages\\pandas\\io\\parsers.py\u001b[0m in \u001b[0;36m__init__\u001b[1;34m(self, f, engine, **kwds)\u001b[0m\n\u001b[0;32m    878\u001b[0m             \u001b[0mself\u001b[0m\u001b[1;33m.\u001b[0m\u001b[0moptions\u001b[0m\u001b[1;33m[\u001b[0m\u001b[1;34m\"has_index_names\"\u001b[0m\u001b[1;33m]\u001b[0m \u001b[1;33m=\u001b[0m \u001b[0mkwds\u001b[0m\u001b[1;33m[\u001b[0m\u001b[1;34m\"has_index_names\"\u001b[0m\u001b[1;33m]\u001b[0m\u001b[1;33m\u001b[0m\u001b[1;33m\u001b[0m\u001b[0m\n\u001b[0;32m    879\u001b[0m \u001b[1;33m\u001b[0m\u001b[0m\n\u001b[1;32m--> 880\u001b[1;33m         \u001b[0mself\u001b[0m\u001b[1;33m.\u001b[0m\u001b[0m_make_engine\u001b[0m\u001b[1;33m(\u001b[0m\u001b[0mself\u001b[0m\u001b[1;33m.\u001b[0m\u001b[0mengine\u001b[0m\u001b[1;33m)\u001b[0m\u001b[1;33m\u001b[0m\u001b[1;33m\u001b[0m\u001b[0m\n\u001b[0m\u001b[0;32m    881\u001b[0m \u001b[1;33m\u001b[0m\u001b[0m\n\u001b[0;32m    882\u001b[0m     \u001b[1;32mdef\u001b[0m \u001b[0mclose\u001b[0m\u001b[1;33m(\u001b[0m\u001b[0mself\u001b[0m\u001b[1;33m)\u001b[0m\u001b[1;33m:\u001b[0m\u001b[1;33m\u001b[0m\u001b[1;33m\u001b[0m\u001b[0m\n",
      "\u001b[1;32mC:\\ProgramData\\Anaconda3\\lib\\site-packages\\pandas\\io\\parsers.py\u001b[0m in \u001b[0;36m_make_engine\u001b[1;34m(self, engine)\u001b[0m\n\u001b[0;32m   1112\u001b[0m     \u001b[1;32mdef\u001b[0m \u001b[0m_make_engine\u001b[0m\u001b[1;33m(\u001b[0m\u001b[0mself\u001b[0m\u001b[1;33m,\u001b[0m \u001b[0mengine\u001b[0m\u001b[1;33m=\u001b[0m\u001b[1;34m\"c\"\u001b[0m\u001b[1;33m)\u001b[0m\u001b[1;33m:\u001b[0m\u001b[1;33m\u001b[0m\u001b[1;33m\u001b[0m\u001b[0m\n\u001b[0;32m   1113\u001b[0m         \u001b[1;32mif\u001b[0m \u001b[0mengine\u001b[0m \u001b[1;33m==\u001b[0m \u001b[1;34m\"c\"\u001b[0m\u001b[1;33m:\u001b[0m\u001b[1;33m\u001b[0m\u001b[1;33m\u001b[0m\u001b[0m\n\u001b[1;32m-> 1114\u001b[1;33m             \u001b[0mself\u001b[0m\u001b[1;33m.\u001b[0m\u001b[0m_engine\u001b[0m \u001b[1;33m=\u001b[0m \u001b[0mCParserWrapper\u001b[0m\u001b[1;33m(\u001b[0m\u001b[0mself\u001b[0m\u001b[1;33m.\u001b[0m\u001b[0mf\u001b[0m\u001b[1;33m,\u001b[0m \u001b[1;33m**\u001b[0m\u001b[0mself\u001b[0m\u001b[1;33m.\u001b[0m\u001b[0moptions\u001b[0m\u001b[1;33m)\u001b[0m\u001b[1;33m\u001b[0m\u001b[1;33m\u001b[0m\u001b[0m\n\u001b[0m\u001b[0;32m   1115\u001b[0m         \u001b[1;32melse\u001b[0m\u001b[1;33m:\u001b[0m\u001b[1;33m\u001b[0m\u001b[1;33m\u001b[0m\u001b[0m\n\u001b[0;32m   1116\u001b[0m             \u001b[1;32mif\u001b[0m \u001b[0mengine\u001b[0m \u001b[1;33m==\u001b[0m \u001b[1;34m\"python\"\u001b[0m\u001b[1;33m:\u001b[0m\u001b[1;33m\u001b[0m\u001b[1;33m\u001b[0m\u001b[0m\n",
      "\u001b[1;32mC:\\ProgramData\\Anaconda3\\lib\\site-packages\\pandas\\io\\parsers.py\u001b[0m in \u001b[0;36m__init__\u001b[1;34m(self, src, **kwds)\u001b[0m\n\u001b[0;32m   1889\u001b[0m         \u001b[0mkwds\u001b[0m\u001b[1;33m[\u001b[0m\u001b[1;34m\"usecols\"\u001b[0m\u001b[1;33m]\u001b[0m \u001b[1;33m=\u001b[0m \u001b[0mself\u001b[0m\u001b[1;33m.\u001b[0m\u001b[0musecols\u001b[0m\u001b[1;33m\u001b[0m\u001b[1;33m\u001b[0m\u001b[0m\n\u001b[0;32m   1890\u001b[0m \u001b[1;33m\u001b[0m\u001b[0m\n\u001b[1;32m-> 1891\u001b[1;33m         \u001b[0mself\u001b[0m\u001b[1;33m.\u001b[0m\u001b[0m_reader\u001b[0m \u001b[1;33m=\u001b[0m \u001b[0mparsers\u001b[0m\u001b[1;33m.\u001b[0m\u001b[0mTextReader\u001b[0m\u001b[1;33m(\u001b[0m\u001b[0msrc\u001b[0m\u001b[1;33m,\u001b[0m \u001b[1;33m**\u001b[0m\u001b[0mkwds\u001b[0m\u001b[1;33m)\u001b[0m\u001b[1;33m\u001b[0m\u001b[1;33m\u001b[0m\u001b[0m\n\u001b[0m\u001b[0;32m   1892\u001b[0m         \u001b[0mself\u001b[0m\u001b[1;33m.\u001b[0m\u001b[0munnamed_cols\u001b[0m \u001b[1;33m=\u001b[0m \u001b[0mself\u001b[0m\u001b[1;33m.\u001b[0m\u001b[0m_reader\u001b[0m\u001b[1;33m.\u001b[0m\u001b[0munnamed_cols\u001b[0m\u001b[1;33m\u001b[0m\u001b[1;33m\u001b[0m\u001b[0m\n\u001b[0;32m   1893\u001b[0m \u001b[1;33m\u001b[0m\u001b[0m\n",
      "\u001b[1;32mpandas\\_libs\\parsers.pyx\u001b[0m in \u001b[0;36mpandas._libs.parsers.TextReader.__cinit__\u001b[1;34m()\u001b[0m\n",
      "\u001b[1;32mpandas\\_libs\\parsers.pyx\u001b[0m in \u001b[0;36mpandas._libs.parsers.TextReader._setup_parser_source\u001b[1;34m()\u001b[0m\n",
      "\u001b[1;31mFileNotFoundError\u001b[0m: [Errno 2] File D:\\ML-Data\\Bank_Personal_Loan_Modelling.csv does not exist: 'D:\\\\ML-Data\\\\Bank_Personal_Loan_Modelling.csv'"
     ]
    }
   ],
   "source": [
    "\n",
    "df = pd.read_csv(\"D:\\ML-Data\\Bank_Personal_Loan_Modelling.csv\")\n",
    "df.head(10)"
   ]
  },
  {
   "cell_type": "code",
   "execution_count": null,
   "metadata": {
    "colab": {},
    "colab_type": "code",
    "id": "dh2IxnHgNgHG",
    "outputId": "84b75141-53fe-477a-8714-56d639d239a2"
   },
   "outputs": [],
   "source": [
    "df.dtypes"
   ]
  },
  {
   "cell_type": "code",
   "execution_count": null,
   "metadata": {
    "colab": {},
    "colab_type": "code",
    "id": "iWOlgHZYNgHI",
    "outputId": "edb369d6-5d52-4f2a-d922-5d5bad471401",
    "scrolled": true
   },
   "outputs": [],
   "source": [
    "df.describe()"
   ]
  },
  {
   "cell_type": "code",
   "execution_count": null,
   "metadata": {
    "colab": {},
    "colab_type": "code",
    "id": "aMddk8hxNgHL",
    "outputId": "b0f8172e-d422-47ca-8c22-7de98598bfc0"
   },
   "outputs": [],
   "source": [
    "#There are negative numbmers in experience! maybe typing error. \n",
    "# Convert to non-negative using .abs function\n",
    "\n",
    "df['Experience'] = df['Experience'].abs()\n",
    "\n",
    "df.describe().transpose()\n",
    "\n"
   ]
  },
  {
   "cell_type": "code",
   "execution_count": null,
   "metadata": {
    "colab": {},
    "colab_type": "code",
    "id": "V5vfe7pZNgHO"
   },
   "outputs": [],
   "source": [
    "# Column descriptions\n",
    "\n",
    "##\tData Description:\t\t\t\t\t\t\t\t\n",
    "##\t\t\t\t\t\t\t\t\t\n",
    "##\tID\tCustomer ID\t\t\t\t\t\t\t\n",
    "##\tAge\tCustomer's age in completed years\t\t\t\t\t\t\t\n",
    "##\tExperience\t#years of professional experience\t\t\t\t\t\t\t\n",
    "##\tIncome\tAnnual income of the customer ($000)\t\t\t\t\t\t\t\n",
    "##\tZIPCode\tHome Address ZIP code.\t\t\t\t\t\t\t\n",
    "##\tFamily\tFamily size of the customer\t\t\t\t\t\t\t\n",
    "##\tCCAvg\tAvg. spending on credit cards per month ($000)\t\t\t\t\t\t\t\n",
    "##\tEducation\tEducation Level. 1: Undergrad; 2: Graduate; 3: Advanced/Professional\t\t\t\t\t\t\t\n",
    "##\tMortgage\tValue of house mortgage if any. ($000)\t\t\t\t\t\t\t\n",
    "##\tPersonal Loan\tDid this customer accept the personal loan offered in the last campaign?\t\t\t\t\t\t\t\n",
    "##\tSecurities Account\tDoes the customer have a securities account with the bank?\t\t\t\t\t\t\t\n",
    "##\tCD Account\tDoes the customer have a certificate of deposit (CD) account with the bank?\t\t\t\t\t\t\t\n",
    "##\tOnline\tDoes the customer use internet banking facilities?\t\t\t\t\t\t\t\n",
    "##\tCreditCard\tDoes the customer use a credit card issued by UniversalBank?\t\t\t\t\t\t\t\n"
   ]
  },
  {
   "cell_type": "code",
   "execution_count": null,
   "metadata": {
    "colab": {},
    "colab_type": "code",
    "id": "d_mcUoisNgHR",
    "outputId": "47af0e8c-6aa3-4c67-9973-3d92c8742d9c"
   },
   "outputs": [],
   "source": [
    "#importing seaborn for statistical plots\n",
    "import seaborn as sns\n",
    "df_attr = df.iloc[:,0:12] #compare all attributes visually to check for relationships that can be exploited\n",
    "\n",
    "sns.pairplot(df_attr)"
   ]
  },
  {
   "cell_type": "code",
   "execution_count": null,
   "metadata": {
    "colab": {},
    "colab_type": "code",
    "id": "XGiFmmezNgHU"
   },
   "outputs": [],
   "source": [
    "# Age and experience have strong positive relation\n",
    "# Age and income have no linear relationship\n",
    "# Age and experience have no linear relationship\n"
   ]
  },
  {
   "cell_type": "code",
   "execution_count": null,
   "metadata": {
    "colab": {},
    "colab_type": "code",
    "id": "2Gpk3XIRNgHX",
    "outputId": "53510a67-df15-4a61-b36b-0853665cab7c"
   },
   "outputs": [],
   "source": [
    "df.dtypes"
   ]
  },
  {
   "cell_type": "code",
   "execution_count": null,
   "metadata": {
    "colab": {},
    "colab_type": "code",
    "id": "FkClel8fNgHa",
    "outputId": "29a9b16c-d7ec-4ff6-b358-5f9e7c6bafea"
   },
   "outputs": [],
   "source": [
    "df.groupby([\"Personal Loan\"]).count()  #The data set is skewed in terms of target column.\n",
    "# There are far few records in class 1 i.e. people who took the personal loan last time. But that \n",
    "# is the class of interst to us! We have to identify potential customers and do not want any potential\n",
    "# customer to be missed. "
   ]
  },
  {
   "cell_type": "code",
   "execution_count": null,
   "metadata": {
    "colab": {},
    "colab_type": "code",
    "id": "j_Dad9_hNgHe"
   },
   "outputs": [],
   "source": [
    "# Separate the independent attributes i.e. columns 0 to 8 and store them in X array\n",
    "# Store the target column (column 8) into Y array\n",
    "\n",
    "X_df = df.loc[:, df.columns != 'Personal Loan']\n",
    "y_df = df.loc[:, df.columns == 'Personal Loan']\n"
   ]
  },
  {
   "cell_type": "code",
   "execution_count": null,
   "metadata": {
    "colab": {},
    "colab_type": "code",
    "id": "W95RufSWNgHh"
   },
   "outputs": [],
   "source": [
    "####### --------------------------- Logistic Model --------------------------------------"
   ]
  },
  {
   "cell_type": "code",
   "execution_count": null,
   "metadata": {
    "colab": {},
    "colab_type": "code",
    "id": "RqEcCB__NgHk"
   },
   "outputs": [],
   "source": [
    "# Create the training and test data set in the ratio of 70:30 respectively. Can be any other ratio...\n",
    "# Prepare data for logistic regression\n",
    "\n",
    "features=X_df.iloc[:, 0:10]\n",
    "features_array = features.values   #logistic modeling algorithm requires feature array not dataframe\n",
    "target_labels = y_df.values\n",
    "\n",
    "\n",
    "test_size = 0.40 # taking 60:40 training and test set\n",
    "seed = 7  # Random numbmer seeding for reapeatability of the code when using random functions to \n",
    "# generate the training and test data\n",
    "\n",
    "X_train, X_test, y_train, y_test = model_selection.train_test_split(features_array, target_labels, test_size=test_size, random_state=seed)\n",
    "y_train = np.ravel(y_train)   # to convert 1 d vector into 1 d array"
   ]
  },
  {
   "cell_type": "code",
   "execution_count": null,
   "metadata": {
    "colab": {},
    "colab_type": "code",
    "id": "mn2mLl5GNgHn",
    "outputId": "e9ce8edf-088d-448f-c714-fdc51962ba7a"
   },
   "outputs": [],
   "source": [
    "# Let us first try logistic regression to predict the personal loan affinity - \n",
    "# We removed the binned columns for this (considered only 11 columns 1:10) which are numeric\n",
    "\n",
    "model = LogisticRegression()\n",
    "model.fit(X_train, y_train)\n",
    "model_score = model.score(X_test, y_test)\n",
    "y_predict = model.predict(X_test)\n",
    "print(model_score)\n",
    "print(metrics.confusion_matrix(y_test, y_predict))\n"
   ]
  },
  {
   "cell_type": "code",
   "execution_count": null,
   "metadata": {
    "colab": {},
    "colab_type": "code",
    "id": "15bSSDd6NgHr",
    "outputId": "0ce34b01-77ca-45c0-9e79-3def2332d278"
   },
   "outputs": [],
   "source": [
    "# The accuracy score of .954 looks impressive but do not forget, it is unreliable as it is a score at\n",
    "# model level. Let us look at class level, especially the class 1.\n",
    "\n",
    "# summarize the fit of the model\n",
    "print(metrics.classification_report(y_test, y_predict))"
   ]
  },
  {
   "cell_type": "code",
   "execution_count": null,
   "metadata": {
    "colab": {},
    "colab_type": "code",
    "id": "ioFE6pWiNgHw"
   },
   "outputs": [],
   "source": [
    "#The precision and recall for class 1 is low...\n",
    "\n",
    "#Precision: Within a given set of positively-labeled results, the fraction that were \n",
    "#true positives = tp/(tp + fp) , this has to be calculated for each class i.e. 0 and 1 and should be\n",
    "# high for the class less represented, class 1 in our example\n",
    "\n",
    "#Recall: Given a set of positively-labeled results, the fraction of all positives that were \n",
    "#retrieved = tp/(tp + fn)\n",
    "\n",
    "# Accuracy: tp + tn / (tp + tn + fp +fn) But this measure can be dominated by larger class. \n",
    "# Suppose 10, 90 and 80 of 90 is correctly predicted while only 2 of 0 is predicted correctly. \n",
    "# Accuracy is 80+2 / 100 i.e. 82%\n",
    "\n",
    "# F is harmonic mean of precision and recal given by ((B^2 +1) PR) / (B^2P +R)\n",
    "#When B is set to 1 we get F1 = 2PR / (P+R)"
   ]
  },
  {
   "cell_type": "code",
   "execution_count": null,
   "metadata": {
    "colab": {},
    "colab_type": "code",
    "id": "7DNc3w4FNgHz"
   },
   "outputs": [],
   "source": [
    "###### ----------------------- Naive Bayes Model ---------------------------------"
   ]
  },
  {
   "cell_type": "code",
   "execution_count": null,
   "metadata": {
    "colab": {},
    "colab_type": "code",
    "id": "2w5Ro3-PNgH1"
   },
   "outputs": [],
   "source": [
    "# Create the training and test data set in the ratio of 70:30 respectively. Can be any other ratio...\n",
    "# Prepare data for logistic regression\n",
    "\n",
    "features=X_df.iloc[:, 0:10]\n",
    "\n",
    "target_labels = df.loc[:, df.columns == 'Personal Loan']\n",
    "\n",
    "\n",
    "X_array = features.values\n",
    "y_array = target_labels.values\n",
    "\n",
    "\n",
    "test_size = 0.40 # taking 60:40 training and test set\n",
    "seed = 7  # Random numbmer seeding for reapeatability of the code\n",
    "\n",
    "X_train, X_test, y_train, y_test = model_selection.train_test_split(X_array, y_array, test_size=test_size, random_state=seed)\n",
    "y_train = np.ravel(y_train)   # to convert 1 d vector into 1 d array"
   ]
  },
  {
   "cell_type": "code",
   "execution_count": null,
   "metadata": {
    "colab": {},
    "colab_type": "code",
    "id": "LRn7-y4iNgH4",
    "outputId": "44418f72-fe90-4029-f947-6f5b0f1dcbb9"
   },
   "outputs": [],
   "source": [
    "# Invoking the NB Gaussian function to create the model\n",
    "# fitting the model in the training data set\n",
    "model = GaussianNB()\n",
    "model.fit(X_train, y_train)\n",
    "\n",
    "predictions=model.predict(X_test)\n",
    "\n",
    "#Assess the accuracy of the model on test data\n",
    "print(metrics.confusion_matrix(y_test,predictions))\n"
   ]
  },
  {
   "cell_type": "code",
   "execution_count": null,
   "metadata": {
    "colab": {},
    "colab_type": "code",
    "id": "3jCRDqRxNgH6",
    "outputId": "2996ffb7-932b-4720-c09b-1fbc36c4a783"
   },
   "outputs": [],
   "source": [
    "# make predictions\n",
    "expected = y_test\n",
    "predicted = model.predict(X_test)\n",
    "# summarize the fit of the model\n",
    "print(metrics.classification_report(expected, predicted))"
   ]
  },
  {
   "cell_type": "code",
   "execution_count": null,
   "metadata": {
    "colab": {},
    "colab_type": "code",
    "id": "DI975O8eNgH-"
   },
   "outputs": [],
   "source": [
    "## Naive Bayes also is not giving the class 1 metrics in the acceptal range (80% and above). Let us try\n",
    "## K Nearest Neighbours"
   ]
  },
  {
   "cell_type": "code",
   "execution_count": null,
   "metadata": {
    "colab": {},
    "colab_type": "code",
    "id": "CiDDUV5dNgIA"
   },
   "outputs": [],
   "source": [
    "#####  ------------------------------ K Nearest Neighbours ------------------------------------"
   ]
  },
  {
   "cell_type": "code",
   "execution_count": null,
   "metadata": {
    "colab": {},
    "colab_type": "code",
    "id": "ywE4YyFsNgIC",
    "outputId": "ab12a188-b1e5-4995-ce04-7d14650828fd"
   },
   "outputs": [],
   "source": [
    "from sklearn.neighbors import KNeighborsClassifier\n",
    "NNH = KNeighborsClassifier(n_neighbors= 3 , weights = 'distance')\n",
    "NNH.fit(X_train, y_train)"
   ]
  },
  {
   "cell_type": "code",
   "execution_count": null,
   "metadata": {
    "colab": {},
    "colab_type": "code",
    "id": "m5V7uQmvNgIG"
   },
   "outputs": [],
   "source": [
    "predicted_labels = NNH.predict(X_test)"
   ]
  },
  {
   "cell_type": "code",
   "execution_count": null,
   "metadata": {
    "colab": {},
    "colab_type": "code",
    "id": "t7gz9fBXNgIH",
    "outputId": "4a6a707f-27e2-4165-be8e-df83d8d9f4e8"
   },
   "outputs": [],
   "source": [
    "print(metrics.confusion_matrix(y_test, predicted_labels))"
   ]
  },
  {
   "cell_type": "code",
   "execution_count": null,
   "metadata": {
    "colab": {},
    "colab_type": "code",
    "id": "hH4vvfccNgIM",
    "outputId": "75406129-dc60-46a4-b977-63c3a942362e"
   },
   "outputs": [],
   "source": [
    "# summarize the fit of the model\n",
    "print(metrics.classification_report(y_test, predicted_labels))"
   ]
  },
  {
   "cell_type": "code",
   "execution_count": null,
   "metadata": {
    "colab": {},
    "colab_type": "code",
    "id": "OQIK4NdBNgIP"
   },
   "outputs": [],
   "source": [
    "### Recall (true positives / (true positives + false negatives)) for class 1 is the least. That is \n",
    "### because majority of data points belong to class 0 and in KNN, probability of finding data points\n",
    "### from class 0 closer to a test point than a data point from class 1 is high."
   ]
  },
  {
   "cell_type": "code",
   "execution_count": null,
   "metadata": {
    "colab": {},
    "colab_type": "code",
    "id": "wp_mH2T_NgIR",
    "outputId": "90b571ae-512d-4f8d-b938-e65b5338e6a6"
   },
   "outputs": [],
   "source": [
    "### let us check the effect of scaling (convert all dimensions to z scores)\n",
    "from sklearn import preprocessing\n",
    "X_train_scaled = preprocessing.scale(X_train)\n",
    "X_test_scaled = preprocessing.scale(X_test)\n",
    "NNH.fit(X_train_scaled, y_train)"
   ]
  },
  {
   "cell_type": "code",
   "execution_count": null,
   "metadata": {
    "colab": {},
    "colab_type": "code",
    "id": "9czlX5eZNgIU"
   },
   "outputs": [],
   "source": [
    "predicted_labels = NNH.predict(X_test_scaled)"
   ]
  },
  {
   "cell_type": "code",
   "execution_count": null,
   "metadata": {
    "colab": {},
    "colab_type": "code",
    "id": "4IzjA643NgIW",
    "outputId": "d1694648-a18d-4695-a1a4-721651b4a7eb"
   },
   "outputs": [],
   "source": [
    "print(metrics.confusion_matrix(y_test, predicted_labels))"
   ]
  },
  {
   "cell_type": "code",
   "execution_count": null,
   "metadata": {
    "colab": {},
    "colab_type": "code",
    "id": "NWFmSUcUNgIX",
    "outputId": "1dcf7ff4-b29f-4884-fbd5-256f97dbf9d5"
   },
   "outputs": [],
   "source": [
    "# summarize the fit of the model\n",
    "print(metrics.classification_report(y_test, predicted_labels))"
   ]
  },
  {
   "cell_type": "code",
   "execution_count": null,
   "metadata": {
    "colab": {},
    "colab_type": "code",
    "id": "zuLiYh1WNgIb"
   },
   "outputs": [],
   "source": [
    "## scaled KNN algorithm gives the best result for class 1 till now. Let us check decision tree"
   ]
  }
 ],
 "metadata": {
  "colab": {
   "name": "Mini+Project+Bank+Loan.ipynb",
   "provenance": [],
   "version": "0.3.2"
  },
  "kernelspec": {
   "display_name": "Python 3",
   "language": "python",
   "name": "python3"
  },
  "language_info": {
   "codemirror_mode": {
    "name": "ipython",
    "version": 3
   },
   "file_extension": ".py",
   "mimetype": "text/x-python",
   "name": "python",
   "nbconvert_exporter": "python",
   "pygments_lexer": "ipython3",
   "version": "3.8.3"
  }
 },
 "nbformat": 4,
 "nbformat_minor": 1
}
